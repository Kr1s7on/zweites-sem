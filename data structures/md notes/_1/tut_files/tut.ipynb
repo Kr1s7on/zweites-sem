{
 "cells": [
  {
   "cell_type": "markdown",
   "metadata": {},
   "source": [
    "## tutorial scripts"
   ]
  },
  {
   "cell_type": "markdown",
   "metadata": {},
   "source": [
    "Complete the following Python function, `minmax(data)` such that it takes a sequence \n",
    "of one or more numbers, and returns the smallest and largest numbers, in the form of a \n",
    "tuple of length two.\n",
    "\n",
    "(**NOTE**: Do not use the built-in `min` or `max` in implementing your solution.)"
   ]
  },
  {
   "cell_type": "code",
   "execution_count": 1,
   "metadata": {},
   "outputs": [
    {
     "name": "stdout",
     "output_type": "stream",
     "text": [
      "(5, 1)\n"
     ]
    }
   ],
   "source": [
    "def minmax(data): \n",
    "    small = big = data[0]   # assuming data is non-empty\n",
    "    \n",
    "    # Iterate the tuple to find the smallest and largest values\n",
    "    for val in data:\n",
    "        if val < small: # if current val is smaller than the smallest val\n",
    "            small = val\n",
    "        \n",
    "        elif val > big: # if current val is bigger than the biggest val\n",
    "            big = val\n",
    "        \n",
    "    return big, small\n",
    "\n",
    "print(minmax([1,3,5,2]))"
   ]
  },
  {
   "cell_type": "code",
   "execution_count": 2,
   "metadata": {},
   "outputs": [
    {
     "name": "stdout",
     "output_type": "stream",
     "text": [
      "14\n"
     ]
    }
   ],
   "source": [
    "\"\"\"\n",
    "    == Q2 ==\n",
    "    Write a short function sum_of_squares(n) that takes \n",
    "    positive integer n \n",
    "    and \n",
    "    returns the sum of the squares of \n",
    "    all the positive integers smaller than or equal to n. \n",
    "\"\"\"\n",
    "\n",
    "def sum_of_squares(n):\n",
    "    # Initialise sum counter\n",
    "    sum = 0\n",
    "    \n",
    "    # for each number in the range 1 to n, then square it and add it to the sum\n",
    "    for i in range(1, n+1):\n",
    "        sum += i**2 # or i*i\n",
    "    \n",
    "    return sum\n",
    "\n",
    "print(sum_of_squares(3))"
   ]
  },
  {
   "cell_type": "code",
   "execution_count": 1,
   "metadata": {},
   "outputs": [
    {
     "name": "stdout",
     "output_type": "stream",
     "text": [
      "35\n"
     ]
    }
   ],
   "source": [
    "\"\"\"\n",
    "    == Q3 ==\n",
    "    Modify the sum_of_squares(n) function written for Qn. 2 such that it now takes a\n",
    "    positive integer n and returns the sum of the squares of all the odd positive integers\n",
    "    smaller than or equal to n.\n",
    "    \n",
    "    (NOTE: Do not use the modulus operator)\n",
    "\"\"\"\n",
    "\n",
    "def sum_of_squares(n):\n",
    "    # Initialise sum counter\n",
    "    sum = 0\n",
    "    \n",
    "    # for each number in the range 1 to n, then square it and add it to the sum\n",
    "    for i in range(1, n+1, 2): # Start from 1 and increment by 2\n",
    "        sum += i**2 # or i*i\n",
    "    \n",
    "    return sum\n",
    "\n",
    "print(sum_of_squares(5))"
   ]
  }
 ],
 "metadata": {
  "kernelspec": {
   "display_name": "Python 3",
   "language": "python",
   "name": "python3"
  },
  "language_info": {
   "codemirror_mode": {
    "name": "ipython",
    "version": 3
   },
   "file_extension": ".py",
   "mimetype": "text/x-python",
   "name": "python",
   "nbconvert_exporter": "python",
   "pygments_lexer": "ipython3",
   "version": "3.12.3"
  }
 },
 "nbformat": 4,
 "nbformat_minor": 2
}
