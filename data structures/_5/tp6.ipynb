{
 "cells": [
  {
   "cell_type": "markdown",
   "metadata": {},
   "source": [
    "## tutorial & practical six\n",
    "\n",
    "#### tutorial 6"
   ]
  },
  {
   "cell_type": "markdown",
   "metadata": {},
   "source": [
    "##### q1\n",
    "We can define the sum of the numbers from `1 to 𝑥𝑥 (i.e. 1  +  2 + . . . + 𝑥𝑥)` recursively as follows `(for integer 𝑥𝑥  ≥ 1)`:  \n",
    "- 1, if 𝑥𝑥  =  1 \n",
    "- 𝑥𝑥  + sum of the numbers from 1 to 𝑥𝑥−1, if 𝑥𝑥  >  1  \n",
    "\n",
    "Based on the above definition, complete the following Python program to compute the sum `1  +  2  +  3  +  4  +  5  +  6  +  7  +  8  +  9  +  10` recursively. "
   ]
  },
  {
   "cell_type": "code",
   "execution_count": 2,
   "metadata": {},
   "outputs": [
    {
     "name": "stdout",
     "output_type": "stream",
     "text": [
      "55\n"
     ]
    }
   ],
   "source": [
    "def main():\n",
    "    # Compute and print the sum of (1 + 2 + ... + 10)\n",
    "    print( sum(10) )   \n",
    "\n",
    "\n",
    "def sum(x): \n",
    "    # Assuming x >= 1     \n",
    "    # Complete this function recursively\n",
    "    if x == 1:\n",
    "        return 1\n",
    "    else:\n",
    "        return x + sum(x-1)\n",
    "\n",
    "main() "
   ]
  },
  {
   "cell_type": "markdown",
   "metadata": {},
   "source": [
    "##### q2\n",
    "Write a recursive Python function – `sumDigits(n)`, that takes a positive integer n and returns the sum of all its digits. \n",
    "\n",
    "For example, `sumDigits(368)` will return the number \n",
    "`3 + 6 + 8 = 17`."
   ]
  },
  {
   "cell_type": "code",
   "execution_count": null,
   "metadata": {},
   "outputs": [
    {
     "name": "stdout",
     "output_type": "stream",
     "text": [
      "17\n"
     ]
    }
   ],
   "source": [
    "def sumDigits(n):\n",
    "    if n == 0:\n",
    "        return 0\n",
    "    else:\n",
    "        # Take last number then add to sum of the all the other numbers\n",
    "        return n % 10 + sumDigits(n // 10)\n",
    "    \n",
    "print(sumDigits(368))"
   ]
  }
 ],
 "metadata": {
  "kernelspec": {
   "display_name": "Python 3",
   "language": "python",
   "name": "python3"
  },
  "language_info": {
   "codemirror_mode": {
    "name": "ipython",
    "version": 3
   },
   "file_extension": ".py",
   "mimetype": "text/x-python",
   "name": "python",
   "nbconvert_exporter": "python",
   "pygments_lexer": "ipython3",
   "version": "3.12.3"
  }
 },
 "nbformat": 4,
 "nbformat_minor": 2
}
